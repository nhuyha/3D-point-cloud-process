{
 "cells": [
  {
   "cell_type": "code",
   "execution_count": 14,
   "id": "5720157b",
   "metadata": {},
   "outputs": [
    {
     "name": "stdout",
     "output_type": "stream",
     "text": [
      "Số điểm ban đầu: 41322075\n",
      "point: [[-0.2052251   0.16436617  1.80466104]\n",
      " [-0.42577735  0.45663148  1.80158639]\n",
      " [-0.49007803 -0.26903315  0.74435687]\n",
      " ...\n",
      " [ 2.5676022   0.54940529  0.98410527]\n",
      " [ 2.58256721 -0.08885211  2.21555281]\n",
      " [ 2.58039045 -0.10012794  2.86040115]]\n",
      "color: [[0.30980392 0.28627451 0.22352941]\n",
      " [0.64705882 0.54901961 0.42745098]\n",
      " [0.67843137 0.65098039 0.58431373]\n",
      " ...\n",
      " [0.6627451  0.70980392 0.70196078]\n",
      " [0.36862745 0.40784314 0.41176471]\n",
      " [0.08235294 0.13333333 0.10196078]]\n"
     ]
    }
   ],
   "source": [
    "import open3d as o3d\n",
    "import numpy as np\n",
    "# Đọc file .ply\n",
    "pcd = o3d.io.read_point_cloud(\"data/pointcloud_rgb_gpu.ply\")\n",
    "\n",
    "print(\"Số điểm ban đầu:\", len(pcd.points))\n",
    "print(\"point:\", np.asarray(pcd.points))\n",
    "print(\"color:\", np.asarray(pcd.colors))\n",
    "\n",
    "\n"
   ]
  },
  {
   "cell_type": "code",
   "execution_count": 20,
   "id": "a1608b3a",
   "metadata": {},
   "outputs": [
    {
     "name": "stdout",
     "output_type": "stream",
     "text": [
      "Average nearest neighbor distance: 0.00860111364280839\n"
     ]
    }
   ],
   "source": [
    "points = np.asarray(pcd.points)\n",
    "pcd_tree = o3d.geometry.KDTreeFlann(pcd)\n",
    "\n",
    "distances = []\n",
    "for i in range(len(points)):\n",
    "    [k, idx, d] = pcd_tree.search_knn_vector_3d(pcd.points[i], 2)  \n",
    "    distances.append(np.sqrt(d[1]))\n",
    "\n",
    "avg_nn_dist = np.mean(distances)\n",
    "print(\"Average nearest neighbor distance:\", avg_nn_dist)"
   ]
  },
  {
   "cell_type": "code",
   "execution_count": 5,
   "id": "b306de0d",
   "metadata": {},
   "outputs": [],
   "source": [
    "# visualize point cloud\n",
    "o3d.visualization.draw_geometries([pcd])"
   ]
  },
  {
   "cell_type": "markdown",
   "id": "82e307e2",
   "metadata": {},
   "source": [
    "# ROTATE 3D Point cloud\n"
   ]
  },
  {
   "cell_type": "code",
   "execution_count": 8,
   "id": "4a582cf9",
   "metadata": {},
   "outputs": [
    {
     "data": {
      "text/plain": [
       "PointCloud with 41322075 points."
      ]
     },
     "execution_count": 8,
     "metadata": {},
     "output_type": "execute_result"
    }
   ],
   "source": [
    "\n",
    "# Fit plane with RANSAC\n",
    "plane_model, inliers = pcd.segment_plane(distance_threshold=0.02,\n",
    "                                         ransac_n=3,\n",
    "                                         num_iterations=1000)\n",
    "[a, b, c, d] = plane_model\n",
    "normal = np.array([a, b, c])\n",
    "\n",
    "# Chuẩn hóa vector pháp tuyến\n",
    "normal /= np.linalg.norm(normal)\n",
    "\n",
    "# Xác định ma trận quay: đưa normal -> [0, 0, 1]\n",
    "z_axis = np.array([0,0,-1])\n",
    "v = np.cross(normal, z_axis)\n",
    "c = np.dot(normal, z_axis)\n",
    "s = np.linalg.norm(v)\n",
    "vx = np.array([[0, -v[2], v[1]],\n",
    "               [v[2], 0, -v[0]],\n",
    "               [-v[1], v[0], 0]])\n",
    "R = np.eye(3) + vx + vx @ vx * ((1 - c) / (s**2))\n",
    "\n",
    "# Áp dụng phép quay\n",
    "pcd.rotate(R, center=(0,0,0))\n",
    "\n",
    "# o3d.visualization.draw_geometries([pcd])\n"
   ]
  },
  {
   "cell_type": "code",
   "execution_count": 9,
   "id": "bdb2edc2",
   "metadata": {},
   "outputs": [],
   "source": [
    "o3d.visualization.draw_geometries([pcd])\n"
   ]
  },
  {
   "cell_type": "code",
   "execution_count": 11,
   "id": "620a6988",
   "metadata": {},
   "outputs": [
    {
     "name": "stdout",
     "output_type": "stream",
     "text": [
      "[[ 0.83935418  0.54358391  0.00104496]\n",
      " [ 0.54358391 -0.83934738 -0.00353588]\n",
      " [-0.00104496  0.00353588 -0.9999932 ]]\n"
     ]
    }
   ],
   "source": [
    "print(R)"
   ]
  },
  {
   "cell_type": "code",
   "execution_count": 25,
   "id": "3aa0147b",
   "metadata": {},
   "outputs": [
    {
     "name": "stdout",
     "output_type": "stream",
     "text": [
      "x_min: -10.36619760505742 x_max: 3.3122437256260477\n",
      "y_min: -5.465829155965705 y_max: 4.882576206099029\n",
      "z_min: -2.774501140508136 z_max: 1.1425741937052905\n"
     ]
    }
   ],
   "source": [
    "y_min = min(pcd.points, key=lambda x: x[1])[1]\n",
    "y_max = max(pcd.points, key=lambda x: x[1])[1]\n",
    "x_min = min(pcd.points, key=lambda x: x[0])[0]\n",
    "x_max = max(pcd.points, key=lambda x: x[0])[0]\n",
    "z_min = min(pcd.points, key=lambda x: x[2])[2]\n",
    "z_max = max(pcd.points, key=lambda x: x[2])[2]\n",
    "\n",
    "print(\"x_min:\", x_min, \"x_max:\", x_max)\n",
    "print(\"y_min:\", y_min, \"y_max:\", y_max)\n",
    "print(\"z_min:\", z_min, \"z_max:\", z_max)"
   ]
  },
  {
   "cell_type": "code",
   "execution_count": 26,
   "id": "acc6b57d",
   "metadata": {},
   "outputs": [
    {
     "name": "stdout",
     "output_type": "stream",
     "text": [
      "[13.67844133 10.34840536  3.91707533]\n"
     ]
    }
   ],
   "source": [
    "bbox = pcd.get_axis_aligned_bounding_box()\n",
    "print(bbox.get_extent())"
   ]
  },
  {
   "cell_type": "code",
   "execution_count": 30,
   "id": "7c491ba1",
   "metadata": {},
   "outputs": [
    {
     "data": {
      "image/png": "[encoded data removed]",
      "text/plain": [
       "<Figure size 1000x600 with 1 Axes>"
      ]
     },
     "metadata": {},
     "output_type": "display_data"
    }
   ],
   "source": [
    "import matplotlib.pyplot as plt\n",
    "# Chuyển thành numpy array\n",
    "points = np.asarray(pcd.points)\n",
    "\n",
    "# Trích trục Z\n",
    "z_coords = points[:, 2]\n",
    "\n",
    "# Vẽ histogram\n",
    "plt.figure(figsize=(10, 6))\n",
    "plt.hist(z_coords, bins=200, color='orange', alpha=0.7)\n",
    "plt.xlabel(\"Z coordinate (height)\")\n",
    "plt.ylabel(\"Frequency\")\n",
    "plt.title(\"Histogram of Z distribution in Point Cloud\")\n",
    "plt.grid(True)\n",
    "plt.show()"
   ]
  },
  {
   "cell_type": "code",
   "execution_count": null,
   "id": "f1f0113b",
   "metadata": {},
   "outputs": [
    {
     "data": {
      "text/plain": [
       "True"
      ]
     },
     "execution_count": 12,
     "metadata": {},
     "output_type": "execute_result"
    }
   ],
   "source": [
    "o3d.io.write_point_cloud(\"data/pcd.ply\", pcd)"
   ]
  },
  {
   "cell_type": "code",
   "execution_count": 12,
   "id": "ef212642",
   "metadata": {},
   "outputs": [
    {
     "name": "stdout",
     "output_type": "stream",
     "text": [
      "[Open3D WARNING] GLFW Error: WGL: Failed to make context current: The requested transformation operation is not supported. \n",
      "[Open3D WARNING] GLFW Error: WGL: Failed to make context current: The handle is invalid. \n"
     ]
    }
   ],
   "source": [
    "\n",
    "plane_model, inliers = pcd.segment_plane(distance_threshold=0.02,\n",
    "                                         ransac_n=3,\n",
    "                                         num_iterations=1000)\n",
    "floor = pcd.select_by_index(inliers)           \n",
    "pcd_wo_floor = pcd.select_by_index(inliers, invert=True) \n",
    "\n",
    "o3d.visualization.draw_geometries([floor])\n"
   ]
  },
  {
   "cell_type": "code",
   "execution_count": 13,
   "id": "27bc195c",
   "metadata": {},
   "outputs": [
    {
     "name": "stdout",
     "output_type": "stream",
     "text": [
      "-1.3390426285289292\n"
     ]
    }
   ],
   "source": [
    "floor_points = np.asarray(floor.points)\n",
    "z_mean = np.mean(floor_points[:,2])   # chiều cao trung bình Z\n",
    "print(z_mean)"
   ]
  },
  {
   "cell_type": "markdown",
   "id": "79c5dfb5",
   "metadata": {},
   "source": [
    "# Preprocessing"
   ]
  },
  {
   "cell_type": "code",
   "execution_count": null,
   "id": "deb72aa6",
   "metadata": {},
   "outputs": [
    {
     "name": "stdout",
     "output_type": "stream",
     "text": [
      "Jupyter environment detected. Enabling Open3D WebVisualizer.\n",
      "[Open3D INFO] WebRTC GUI backend enabled.\n",
      "[Open3D INFO] WebRTCWindowSystem: HTTP handshake server disabled.\n"
     ]
    }
   ],
   "source": [
    "import numpy as np\n",
    "import open3d as o3d\n",
    "import matplotlib.pyplot as plt\n",
    "pcd=o3d.io.read_point_cloud(\"data/pcd.ply\")\n",
    "o3d.visualization.draw_geometries([pcd])"
   ]
  },
  {
   "cell_type": "code",
   "execution_count": 3,
   "id": "400c1cc5",
   "metadata": {},
   "outputs": [
    {
     "name": "stdout",
     "output_type": "stream",
     "text": [
      "Average nearest neighbor distance: 0.008601113642808389\n"
     ]
    }
   ],
   "source": [
    "points = np.asarray(pcd.points)\n",
    "pcd_tree = o3d.geometry.KDTreeFlann(pcd)\n",
    "\n",
    "distances = []\n",
    "for i in range(len(points)):\n",
    "    [k, idx, d] = pcd_tree.search_knn_vector_3d(pcd.points[i], 2)  \n",
    "    distances.append(np.sqrt(d[1]))\n",
    "\n",
    "avg_nn_dist = np.mean(distances)\n",
    "print(\"Average nearest neighbor distance:\", avg_nn_dist)"
   ]
  },
  {
   "cell_type": "markdown",
   "id": "269b42b5",
   "metadata": {},
   "source": [
    "### Downsample\n",
    "\n",
    "Using uniform down sample with parameter every_k_points=5\n",
    " "
   ]
  },
  {
   "cell_type": "code",
   "execution_count": 4,
   "id": "192eca1e",
   "metadata": {},
   "outputs": [
    {
     "name": "stdout",
     "output_type": "stream",
     "text": [
      "PointCloud with 8264415 points.\n",
      "remove: 33057660\n"
     ]
    }
   ],
   "source": [
    "pcd_uniform = pcd.uniform_down_sample(every_k_points=5)\n",
    "print(pcd_uniform)\n",
    "print(\"remove:\", len(pcd.points) - len(pcd_uniform.points))\n",
    "o3d.visualization.draw_geometries([pcd_uniform])"
   ]
  },
  {
   "cell_type": "markdown",
   "id": "49a61929",
   "metadata": {},
   "source": [
    "### Filtering and cleaning with statistical outlier removal"
   ]
  },
  {
   "cell_type": "code",
   "execution_count": 5,
   "id": "21012c58",
   "metadata": {},
   "outputs": [
    {
     "name": "stdout",
     "output_type": "stream",
     "text": [
      "PointCloud with 7389639 points.\n",
      "remove: 874776\n",
      "[Open3D WARNING] GLFW Error: WGL: Failed to make context current: The handle is invalid. \n"
     ]
    }
   ],
   "source": [
    "pcd_statistic, ind= pcd_uniform.remove_statistical_outlier(nb_neighbors=30,\n",
    "                                                std_ratio=1.0)\n",
    "print(pcd_statistic)\n",
    "print(\"remove:\", len(pcd_uniform.points) - len(pcd_statistic.points))\n"
   ]
  },
  {
   "cell_type": "code",
   "execution_count": 6,
   "id": "13690c69",
   "metadata": {},
   "outputs": [],
   "source": [
    "o3d.visualization.draw_geometries([pcd_statistic])"
   ]
  },
  {
   "cell_type": "code",
   "execution_count": 8,
   "id": "65d04dc2",
   "metadata": {},
   "outputs": [
    {
     "name": "stdout",
     "output_type": "stream",
     "text": [
      "Average nearest neighbor distance: 0.011868550059147286\n"
     ]
    }
   ],
   "source": [
    "points = np.asarray(pcd_statistic.points)\n",
    "pcd_tree = o3d.geometry.KDTreeFlann(pcd_statistic)\n",
    "\n",
    "distances = []\n",
    "for i in range(len(points)):\n",
    "    [k, idx, d] = pcd_tree.search_knn_vector_3d(pcd_statistic.points[i], 2)\n",
    "    distances.append(np.sqrt(d[1]))\n",
    "\n",
    "avg_nn_dist = np.mean(distances)\n",
    "print(\"Average nearest neighbor distance:\", avg_nn_dist)"
   ]
  },
  {
   "cell_type": "markdown",
   "id": "59743181",
   "metadata": {},
   "source": [
    "### Filtering and cleaning with radius outlier removal"
   ]
  },
  {
   "cell_type": "code",
   "execution_count": 7,
   "id": "650cab56",
   "metadata": {},
   "outputs": [
    {
     "name": "stdout",
     "output_type": "stream",
     "text": [
      "PointCloud with 5621690 points.\n",
      "remove: 1767949\n",
      "[Open3D WARNING] [ViewControl] SetViewPoint() failed because window height and width are not set.\n"
     ]
    }
   ],
   "source": [
    "pcd_radius, ind = pcd_statistic.remove_radius_outlier(nb_points=3, radius=0.02)\n",
    "print(pcd_radius)\n",
    "print(\"remove:\", len(pcd_statistic.points) - len(pcd_radius.points))\n",
    "o3d.visualization.draw_geometries([pcd_radius])\n",
    "\n"
   ]
  },
  {
   "cell_type": "code",
   "execution_count": null,
   "id": "2e167aa6",
   "metadata": {},
   "outputs": [
    {
     "data": {
      "text/plain": [
       "True"
      ]
     },
     "execution_count": 13,
     "metadata": {},
     "output_type": "execute_result"
    }
   ],
   "source": [
    "o3d.io.write_point_cloud(\"data/pcd_preprocess.ply\", pcd_radius)"
   ]
  },
  {
   "cell_type": "markdown",
   "id": "a49ae00a",
   "metadata": {},
   "source": [
    "### Clustering and remove small cluster"
   ]
  },
  {
   "cell_type": "code",
   "execution_count": 10,
   "id": "96c97db8",
   "metadata": {},
   "outputs": [
    {
     "name": "stdout",
     "output_type": "stream",
     "text": [
      "Found 8316 clusters\n"
     ]
    }
   ],
   "source": [
    "from sklearn.cluster import DBSCAN\n",
    "\n",
    "points = np.asarray(pcd_radius.points)\n",
    "\n",
    "# DBSCAN với eps dựa trên ANND ~0.012\n",
    "clustering = DBSCAN(eps=0.03, min_samples=20, n_jobs=-1).fit(points)\n",
    "labels = clustering.labels_\n",
    "\n",
    "unique_labels = set(labels)\n",
    "print(f\"Found {len(unique_labels) - (1 if -1 in labels else 0)} clusters\")\n",
    "\n",
    "# Lọc các cụm nhỏ (>= 100 điểm mới giữ)\n",
    "indices_to_keep = []\n",
    "for label in unique_labels:\n",
    "    if label == -1:\n",
    "        continue\n",
    "    cluster_indices = np.where(labels == label)[0]\n",
    "    if len(cluster_indices) > 100:   # threshold mạnh hơn\n",
    "        indices_to_keep.extend(cluster_indices)\n",
    "\n",
    "pcd_filtered = pcd_radius.select_by_index(indices_to_keep)\n",
    "\n",
    "o3d.visualization.draw_geometries([pcd_filtered])"
   ]
  },
  {
   "cell_type": "code",
   "execution_count": 11,
   "id": "135e3034",
   "metadata": {},
   "outputs": [
    {
     "name": "stdout",
     "output_type": "stream",
     "text": [
      "remove: 1660258\n",
      "Filtered point cloud has 3961432 points.\n"
     ]
    }
   ],
   "source": [
    "print(\"remove:\", len(pcd_radius.points) - len(pcd_filtered.points))\n",
    "print(\"Filtered point cloud has\", len(pcd_filtered.points), \"points.\")    "
   ]
  },
  {
   "cell_type": "code",
   "execution_count": null,
   "id": "9c51154a",
   "metadata": {},
   "outputs": [
    {
     "data": {
      "text/plain": [
       "True"
      ]
     },
     "execution_count": 12,
     "metadata": {},
     "output_type": "execute_result"
    }
   ],
   "source": [
    "o3d.io.write_point_cloud(\"data/pcd_filtered.ply\", pcd_filtered)"
   ]
  },
  {
   "cell_type": "markdown",
   "id": "8820516d",
   "metadata": {},
   "source": [
    "# Post-Processing Analysis"
   ]
  },
  {
   "cell_type": "code",
   "execution_count": 1,
   "id": "e9fe4946",
   "metadata": {},
   "outputs": [
    {
     "name": "stdout",
     "output_type": "stream",
     "text": [
      "Jupyter environment detected. Enabling Open3D WebVisualizer.\n",
      "[Open3D INFO] WebRTC GUI backend enabled.\n",
      "[Open3D INFO] WebRTCWindowSystem: HTTP handshake server disabled.\n"
     ]
    }
   ],
   "source": [
    "from sklearn.cluster import DBSCAN\n",
    "import numpy as np\n",
    "import open3d as o3d\n",
    "import matplotlib.pyplot as plt\n",
    "import random"
   ]
  },
  {
   "cell_type": "code",
   "execution_count": null,
   "id": "0ae508dc",
   "metadata": {},
   "outputs": [
    {
     "name": "stdout",
     "output_type": "stream",
     "text": [
      "Jupyter environment detected. Enabling Open3D WebVisualizer.\n",
      "[Open3D INFO] WebRTC GUI backend enabled.\n",
      "[Open3D INFO] WebRTCWindowSystem: HTTP handshake server disabled.\n"
     ]
    }
   ],
   "source": [
    "\n",
    "\n",
    "pcd_filtered=o3d.io.read_point_cloud(\"data/pcd_filtered.ply\")\n",
    "o3d.visualization.draw_geometries([pcd_filtered])"
   ]
  },
  {
   "cell_type": "code",
   "execution_count": 2,
   "id": "331a1ae9",
   "metadata": {},
   "outputs": [
    {
     "name": "stdout",
     "output_type": "stream",
     "text": [
      "Average nearest neighbor distance: 0.010739226166346448\n"
     ]
    }
   ],
   "source": [
    "points = np.asarray(pcd_filtered.points)\n",
    "pcd_tree = o3d.geometry.KDTreeFlann(pcd_filtered)\n",
    "\n",
    "distances = []\n",
    "for i in range(len(points)):\n",
    "    [k, idx, d] = pcd_tree.search_knn_vector_3d(points[i], 2)  \n",
    "    distances.append(np.sqrt(d[1]))\n",
    "\n",
    "avg_nn_dist = np.mean(distances)\n",
    "print(\"Average nearest neighbor distance:\", avg_nn_dist)"
   ]
  },
  {
   "cell_type": "code",
   "execution_count": 3,
   "id": "00428f39",
   "metadata": {},
   "outputs": [
    {
     "name": "stdout",
     "output_type": "stream",
     "text": [
      "x_min: -9.428562855010945 x_max: 2.827222933876099\n",
      "y_min: -4.980126390628311 y_max: 4.76471705725735\n",
      "z_min: -2.3226672768126053 z_max: 0.5414483256217723\n"
     ]
    }
   ],
   "source": [
    "y_min = min(pcd_filtered.points, key=lambda x: x[1])[1]\n",
    "y_max = max(pcd_filtered.points, key=lambda x: x[1])[1]\n",
    "x_min = min(pcd_filtered.points, key=lambda x: x[0])[0]\n",
    "x_max = max(pcd_filtered.points, key=lambda x: x[0])[0]\n",
    "z_min = min(pcd_filtered.points, key=lambda x: x[2])[2]\n",
    "z_max = max(pcd_filtered.points, key=lambda x: x[2])[2]\n",
    "\n",
    "print(\"x_min:\", x_min, \"x_max:\", x_max)\n",
    "print(\"y_min:\", y_min, \"y_max:\", y_max)\n",
    "print(\"z_min:\", z_min, \"z_max:\", z_max)"
   ]
  },
  {
   "cell_type": "code",
   "execution_count": 4,
   "id": "8ea4ad73",
   "metadata": {},
   "outputs": [
    {
     "name": "stdout",
     "output_type": "stream",
     "text": [
      "[12.25578579  9.74484345  2.8641156 ]\n"
     ]
    }
   ],
   "source": [
    "bbox = pcd_filtered.get_axis_aligned_bounding_box()\n",
    "print(bbox.get_extent())"
   ]
  },
  {
   "cell_type": "code",
   "execution_count": 2,
   "id": "7c42c936",
   "metadata": {},
   "outputs": [
    {
     "name": "stdout",
     "output_type": "stream",
     "text": [
      "Estimated floor height (z): -1.6278020672161773\n"
     ]
    }
   ],
   "source": [
    "def robust_floor_segmentation(pcd, distance_threshold=0.02, ransac_n=3, num_iterations=1000, seed=42):\n",
    "    np.random.seed(seed)\n",
    "    random.seed(seed)\n",
    "    o3d.utility.random.seed(seed)\n",
    "\n",
    "    plane_model, inliers = pcd.segment_plane(\n",
    "        distance_threshold=distance_threshold,\n",
    "        ransac_n=ransac_n,\n",
    "        num_iterations=num_iterations\n",
    "    )\n",
    "    inlier_cloud = pcd.select_by_index(inliers)\n",
    "    z_mean = np.mean(np.asarray(inlier_cloud.points)[:, 2])\n",
    "\n",
    "    floor_cloud = pcd.select_by_index(inliers)\n",
    "    pcd_wo_floor = pcd.select_by_index(inliers, invert=True)\n",
    "\n",
    "    return floor_cloud, pcd_wo_floor, z_mean, plane_model\n",
    "\n",
    "\n",
    "pcd = o3d.io.read_point_cloud(\"data/pcd.ply\")\n",
    "floor, pcd_wo_floor, floor_z, plane_model = robust_floor_segmentation(pcd)\n",
    "print(f\"Estimated floor height (z): {floor_z}\")\n"
   ]
  },
  {
   "cell_type": "code",
   "execution_count": 3,
   "id": "40ade557",
   "metadata": {},
   "outputs": [
    {
     "name": "stdout",
     "output_type": "stream",
     "text": [
      "[Open3D WARNING] GLFW Error: WGL: Failed to make context current: The requested transformation operation is not supported. \n",
      "[Open3D WARNING] GLFW Error: WGL: Failed to make context current: The requested transformation operation is not supported. \n",
      "[Open3D WARNING] GLFW Error: WGL: Failed to make context current: The requested transformation operation is not supported. \n"
     ]
    }
   ],
   "source": [
    "o3d.visualization.draw_geometries([floor])"
   ]
  }
 ],
 "metadata": {
  "kernelspec": {
   "display_name": "3DPointCloud",
   "language": "python",
   "name": "python3"
  },
  "language_info": {
   "codemirror_mode": {
    "name": "ipython",
    "version": 3
   },
   "file_extension": ".py",
   "mimetype": "text/x-python",
   "name": "python",
   "nbconvert_exporter": "python",
   "pygments_lexer": "ipython3",
   "version": "3.12.5"
  }
 },
 "nbformat": 4,
 "nbformat_minor": 5
}
